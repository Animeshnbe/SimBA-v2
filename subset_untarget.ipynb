{
  "cells": [
    {
      "cell_type": "code",
      "execution_count": null,
      "metadata": {
        "id": "b3A5QKT84ol1"
      },
      "outputs": [],
      "source": [
        "import torch\n",
        "import torchvision.datasets as dset\n",
        "import torchvision.models as models\n",
        "import torchvision.transforms as trans\n",
        "import torch.nn.functional as F\n",
        "from tqdm import tqdm\n",
        "from matplotlib import pyplot as plt\n",
        "import numpy as np\n",
        "import pickle\n",
        "import random\n",
        "\n",
        "IMAGENET_TRANSFORM = trans.Compose([trans.ToTensor()])"
      ]
    },
    {
      "cell_type": "code",
      "execution_count": null,
      "metadata": {
        "id": "WLR-fA3x4rVt"
      },
      "outputs": [],
      "source": [
        "# proj = '/content/drive/MyDrive/SMAI_proj/'\n",
        "# testset = dset.ImageFolder(proj+'Imagenet16v2/val', IMAGENET_TRANSFORM)\n",
        "testset = dset.ImageFolder('/content/drive/MyDrive/SMAI_proj/subset/val', IMAGENET_TRANSFORM)"
      ]
    },
    {
      "cell_type": "code",
      "execution_count": null,
      "metadata": {
        "id": "wfb8EEsk5zzy"
      },
      "outputs": [],
      "source": [
        "# idx = torch.randperm(len(testset))\n",
        "# pickle.dump(idx,open('/content/drive/MyDrive/SMAI_proj/idx','wb'))\n",
        "idx = pickle.load(open('idx','rb'))"
      ]
    },
    {
      "cell_type": "code",
      "execution_count": null,
      "metadata": {
        "colab": {
          "base_uri": "https://localhost:8080/"
        },
        "id": "N8-NiHPEpeaW",
        "outputId": "ed3b81e6-c832-4d58-ddd4-d5eb7b7d5e32"
      },
      "outputs": [
        {
          "name": "stdout",
          "output_type": "stream",
          "text": [
            "Mounted at /content/drive\n"
          ]
        }
      ],
      "source": [
        "# from google.colab import drive\n",
        "# drive.mount('/content/drive')"
      ]
    },
    {
      "cell_type": "code",
      "execution_count": null,
      "metadata": {
        "colab": {
          "base_uri": "https://localhost:8080/"
        },
        "id": "T_STJtI-HAyf",
        "outputId": "82cd62fc-3ccc-4ee2-96e6-6310c297e0ed"
      },
      "outputs": [
        {
          "data": {
            "text/plain": [
              "3925"
            ]
          },
          "execution_count": 6,
          "metadata": {},
          "output_type": "execute_result"
        }
      ],
      "source": [
        "len(idx)"
      ]
    },
    {
      "cell_type": "code",
      "execution_count": null,
      "metadata": {
        "id": "koa7mUdG50a8"
      },
      "outputs": [],
      "source": [
        "class Simba:\n",
        "  def __init__(self, model_name, epsilon = 0.1):\n",
        "    self.model = getattr(models, model_name)(pretrained=True).cuda()\n",
        "    self.epsilon = epsilon\n",
        "    self.model.eval()\n",
        "  \n",
        "  def getAttackIteration(self,img, itr = 10000): # max iteration: 12288\n",
        "    data,_ = img\n",
        "    res = self.model(data.unsqueeze(0).cuda()).cpu()\n",
        "    res = torch.squeeze(res)\n",
        "    # print(res.shape)\n",
        "    actual_class = torch.argmax(res)\n",
        "    last_prob = F.softmax(res,dim=-1)[actual_class]\n",
        "    length = torch.numel(data)\n",
        "    rand = torch.randperm(length)\n",
        "    image = data\n",
        "    for i in tqdm(range(itr)):\n",
        "      noise = torch.zeros(length)\n",
        "      noise[rand[i]] += self.epsilon \n",
        "      # check addition\n",
        "      new_image = torch.flatten(image) + noise\n",
        "      new_image = new_image.reshape(data.shape)\n",
        "      res = self.model(new_image.unsqueeze(0).cuda()).cpu()\n",
        "      res = torch.squeeze(res)\n",
        "      new_class = torch.argmax(res)\n",
        "      if new_class != actual_class:\n",
        "        image = new_image\n",
        "        break\n",
        "      new_prob = F.softmax(res,dim=-1)[actual_class]\n",
        "      if new_prob > last_prob:\n",
        "        #check substraction\n",
        "        new_image = torch.flatten(image) - noise\n",
        "        new_image = new_image.reshape(data.shape)\n",
        "        res = self.model(new_image.unsqueeze(0).cuda()).cpu()\n",
        "        res = torch.squeeze(res)\n",
        "        new_class = torch.argmax(res)\n",
        "        if new_class != actual_class:\n",
        "          image = new_image\n",
        "          break\n",
        "        new_prob = F.softmax(res,dim=-1)[actual_class]\n",
        "        if new_prob > last_prob:\n",
        "          image = new_image\n",
        "          last_prob = new_prob\n",
        "      else:\n",
        "        image = new_image\n",
        "        last_prob = new_prob\n",
        "      # print(last_prob)\n",
        "    return new_image, i\n"
      ]
    },
    {
      "cell_type": "code",
      "execution_count": null,
      "metadata": {
        "colab": {
          "base_uri": "https://localhost:8080/"
        },
        "id": "LThQFwqy52YH",
        "outputId": "0593ab38-d41a-457a-bea2-216443d057bb"
      },
      "outputs": [
        {
          "data": {
            "text/plain": [
              "3925"
            ]
          },
          "execution_count": 8,
          "metadata": {},
          "output_type": "execute_result"
        }
      ],
      "source": [
        "labels = pickle.load(open('labels.pkl','rb'))\n",
        "len(testset)"
      ]
    },
    {
      "cell_type": "code",
      "execution_count": null,
      "metadata": {
        "colab": {
          "base_uri": "https://localhost:8080/",
          "height": 1000
        },
        "id": "zuEew7qL54aP",
        "outputId": "bfcf67f0-7082-48e8-cf29-5e8208a067d9"
      },
      "outputs": [],
      "source": [
        "attacker = Simba('mobilenet_v2',0.3)\n",
        "arr = []\n",
        "img_data = []\n",
        "for i in range(100):\n",
        "  print('attack on image',i)\n",
        "  img, k = attacker.getAttackIteration(testset[idx[i]])\n",
        "  x,y = testset[idx[i]]\n",
        "  if k != 9999:\n",
        "    arr.append(k)\n",
        "    img_data.append([x,img])\n",
        "\n",
        "    fig,a =  plt.subplots(1,2)\n",
        "\n",
        "    res = attacker.model(x.unsqueeze(0).cuda()).cpu()\n",
        "    res = torch.squeeze(res)\n",
        "    actual_class = int(torch.argmax(res))\n",
        "    a[0].set_title(str(labels[actual_class]))\n",
        "    a[0].imshow(np.transpose(x,(1,2,0)))\n",
        "\n",
        "    res = attacker.model(img.unsqueeze(0).cuda()).cpu()\n",
        "    res = torch.squeeze(res)\n",
        "    actual_class = int(torch.argmax(res))\n",
        "    a[1].set_title(str(labels[actual_class]))\n",
        "    a[1].imshow(np.transpose(img,(1,2,0)))\n",
        "    plt.tight_layout()\n",
        "    plt.show()\n",
        "    print('successful attack ratio:',len(arr)/(i+1))\n",
        "    print(np.average(arr)) \n",
        "    pickle.dump(img_data,open('img_udata_03_100','wb'))\n",
        "    pickle.dump(arr,open('uarr_03_100','wb'))\n",
        "    pickle.dump(i,open('i_03_100u','wb'))"
      ]
    },
    {
      "cell_type": "code",
      "execution_count": null,
      "metadata": {
        "id": "0lnAfROB5u4C"
      },
      "outputs": [],
      "source": [
        "# print(len(img_data))\n",
        "# print(len(arr))\n",
        "# print(i)"
      ]
    },
    {
      "cell_type": "code",
      "execution_count": null,
      "metadata": {
        "id": "vZdkYq_NoCql"
      },
      "outputs": [],
      "source": [
        "# pickle.dump(img_data,open('/content/drive/MyDrive/SMAI_proj/saved/mobilenet_v2/img_data','wb'))\n",
        "# pickle.dump(arr,open('/content/drive/MyDrive/SMAI_proj/saved/mobilenet_v2/arr','wb'))\n",
        "# pickle.dump(i,open('/content/drive/MyDrive/SMAI_proj/saved/mobilenet_v2/i','wb'))"
      ]
    }
  ],
  "metadata": {
    "accelerator": "GPU",
    "colab": {
      "provenance": []
    },
    "gpuClass": "standard",
    "kernelspec": {
      "display_name": "Python 3",
      "name": "python3"
    },
    "language_info": {
      "name": "python",
      "version": "3.8.16"
    }
  },
  "nbformat": 4,
  "nbformat_minor": 0
}
